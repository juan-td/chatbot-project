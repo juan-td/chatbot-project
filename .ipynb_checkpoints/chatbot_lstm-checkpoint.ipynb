{
 "cells": [
  {
   "cell_type": "markdown",
   "id": "b946733f",
   "metadata": {},
   "source": [
    "# Chatbot using char embedding and an LSTM layer\n",
    "- Doesn't require exact words defined in intents.json (char tokenizing vs word tokenizing)\n",
    "- Tolerant to typos and words not found in intents.json\n",
    "- Slower training and predicting times compared to using dense layers or word tokenization\n",
    "- Better recognition of unknown phrases"
   ]
  },
  {
   "cell_type": "markdown",
   "id": "7304dc1f",
   "metadata": {},
   "source": [
    "# Setup"
   ]
  },
  {
   "cell_type": "code",
   "execution_count": 1,
   "id": "037083cd",
   "metadata": {},
   "outputs": [],
   "source": [
    "import numpy as np\n",
    "import random\n",
    "import json\n",
    "import nltk\n",
    "import tensorflow as tf\n",
    "from tensorflow import keras\n",
    "import pickle"
   ]
  },
  {
   "cell_type": "markdown",
   "id": "49187519",
   "metadata": {},
   "source": [
    "# Read and parse intents.json"
   ]
  },
  {
   "cell_type": "code",
   "execution_count": 21,
   "id": "a8ee4eac",
   "metadata": {},
   "outputs": [],
   "source": [
    "with open('intents.json') as file:\n",
    "    data = json.load(file)\n",
    "\n",
    "words = []\n",
    "labels = []\n",
    "docs_x = []\n",
    "docs_y = []\n",
    "\n",
    "tokenizer = keras.preprocessing.text.Tokenizer(char_level=True)\n",
    "\n",
    "for intent in data['intents']:\n",
    "    for pattern in intent['patterns']:\n",
    "        wrds = nltk.word_tokenize(pattern)\n",
    "        wrds = [w.lower() for w in wrds if w != '?']\n",
    "        words.extend(wrds)\n",
    "        docs_x.append(' '.join(wrds))\n",
    "        docs_y.append(intent['tag'])\n",
    "        \n",
    "    if intent['tag'] not in labels:\n",
    "        labels.append(intent['tag'])\n",
    "\n",
    "\n",
    "words = sorted(list(set(words)))\n",
    "tokenizer.fit_on_texts(' '.join(words))\n",
    "\n",
    "labels = sorted(labels)\n",
    "\n",
    "training = []\n",
    "output = []\n",
    "\n",
    "out_empty = [0 for _ in range(len(labels))]\n",
    "training_empty = np.array([0. for _ in range(len(tokenizer.word_index)+1)])\n",
    "\n",
    "for x, doc in enumerate(docs_x):\n",
    "    \n",
    "#     doc_onehot_sequence = tokenizer.texts_to_matrix(doc)\n",
    "    doc_sequence = np.array(tokenizer.texts_to_sequences(doc))\n",
    "    output_row = out_empty[:]\n",
    "    output_row[labels.index(docs_y[x])] = 1\n",
    "    \n",
    "#     training.append(doc_onehot_sequence)\n",
    "    training.append(doc_sequence)\n",
    "    output.append(output_row)\n",
    "    \n",
    "training_padded = keras.preprocessing.sequence.pad_sequences(training)\n",
    "output = np.array(output)"
   ]
  },
  {
   "cell_type": "markdown",
   "id": "580a37f2",
   "metadata": {},
   "source": [
    "# Define model and train (this time with embedding matrix and an LSTM layer)"
   ]
  },
  {
   "cell_type": "code",
   "execution_count": 3,
   "id": "d42d6897",
   "metadata": {},
   "outputs": [],
   "source": [
    "model = keras.models.Sequential([\n",
    "    \n",
    "    keras.layers.Embedding(len(tokenizer.word_index)+1,8, mask_zero=True),\n",
    "    keras.layers.LSTM(16),\n",
    "    keras.layers.Dense(len(labels), activation='softmax')\n",
    "    \n",
    "])"
   ]
  },
  {
   "cell_type": "code",
   "execution_count": null,
   "id": "bf91b451",
   "metadata": {
    "scrolled": true
   },
   "outputs": [],
   "source": [
    "model.compile(optimizer='adam',loss='binary_crossentropy',metrics='accuracy')\n",
    "history = model.fit(x=training_padded,\n",
    "                    y=output,\n",
    "                    batch_size=8,\n",
    "                    epochs=1000,\n",
    "                    callbacks=[keras.callbacks.ReduceLROnPlateau(monitor='loss',factor=0.7,patience=30),\n",
    "                               keras.callbacks.EarlyStopping(monitor='loss', patience=150, restore_best_weights=True)])"
   ]
  },
  {
   "cell_type": "markdown",
   "id": "5a97f0c1",
   "metadata": {},
   "source": [
    "# Setup predictions"
   ]
  },
  {
   "cell_type": "code",
   "execution_count": 6,
   "id": "bd0b941d",
   "metadata": {},
   "outputs": [],
   "source": [
    "def str_to_sequence(inp):\n",
    "    wrds = nltk.word_tokenize(inp)\n",
    "    wrds = [w.lower() for w in wrds if w != '?']\n",
    "    inp_text = ' '.join(wrds)\n",
    "    inp_seq = tokenizer.texts_to_sequences(inp_text)\n",
    "    return np.array(inp_seq).reshape(1,-1,1)\n",
    "\n",
    "def model_response(pred, labels, data):\n",
    "    if max(pred)<0.9:\n",
    "        uncertain_responses = ['I dont understand', 'Sorry I dont get what you\\'re saying', 'Could you word that differently?']\n",
    "        print(f\"Chatbot: {random.choice(uncertain_responses)}\")\n",
    "    else:\n",
    "        pred_idx = np.argmax(pred)\n",
    "        label = labels[pred_idx]\n",
    "\n",
    "        for intent in data['intents']:\n",
    "            if label == intent['tag']:\n",
    "                print(f\"Chatbot: {random.choice(intent['responses'])}\")\n",
    "                break"
   ]
  },
  {
   "cell_type": "markdown",
   "id": "3189606e",
   "metadata": {},
   "source": [
    "# Define chat loop and chat!"
   ]
  },
  {
   "cell_type": "code",
   "execution_count": 12,
   "id": "98ba0bcc",
   "metadata": {},
   "outputs": [],
   "source": [
    "def chat():\n",
    "    print('Start talking with the bot! (type quit to stop)\\n')\n",
    "    while True:\n",
    "        inp = input(\"You: \")\n",
    "        if inp.lower()=='quit':\n",
    "            break\n",
    "        inp = ''.join([c for c in inp if c in tokenizer.word_index.keys()])\n",
    "        inp_seq = str_to_sequence(inp)\n",
    "        pred = model.predict(inp_seq).reshape(-1)\n",
    "        model_response(pred,labels,data)"
   ]
  },
  {
   "cell_type": "code",
   "execution_count": 23,
   "id": "aa9f6127",
   "metadata": {},
   "outputs": [
    {
     "name": "stdout",
     "output_type": "stream",
     "text": [
      "Start talking with the bot! (type quit to stop)\n",
      "\n",
      "You: hello!\n",
      "Chatbot: Good to see you again!\n",
      "You: how are you?\n",
      "Chatbot: Good to see you again!\n",
      "You: what do you sell?\n",
      "Chatbot: We sell chocolate chip cookies for $2!\n",
      "You: do you have a name?\n",
      "Chatbot: I'm Chatbot!\n",
      "You: how old are you?\n",
      "Chatbot: I am 18 years old!\n",
      "You: do you deliver?\n",
      "Chatbot: Sure, call this number and make your delivery!\n",
      "You: hellwo!\n",
      "Chatbot: Hi there, how can I help?\n",
      "You: do u make reservation\n",
      "Chatbot: I dont understand\n",
      "You: do u accept reservation\n",
      "Chatbot: We'd gladly take your reservation, call this number\n",
      "You: wat is ur name\n",
      "Chatbot: I'm Chatbot!\n",
      "You: goodby chatbot!\n",
      "Chatbot: Goodbye!\n",
      "You: quit\n"
     ]
    }
   ],
   "source": [
    "chat()"
   ]
  },
  {
   "cell_type": "code",
   "execution_count": null,
   "id": "ac546acf",
   "metadata": {},
   "outputs": [],
   "source": []
  }
 ],
 "metadata": {
  "kernelspec": {
   "display_name": "Python 3.8 (tensorflow)",
   "language": "python",
   "name": "tensorflow"
  },
  "language_info": {
   "codemirror_mode": {
    "name": "ipython",
    "version": 3
   },
   "file_extension": ".py",
   "mimetype": "text/x-python",
   "name": "python",
   "nbconvert_exporter": "python",
   "pygments_lexer": "ipython3",
   "version": "3.8.8"
  }
 },
 "nbformat": 4,
 "nbformat_minor": 5
}
