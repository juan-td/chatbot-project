{
 "cells": [
  {
   "cell_type": "markdown",
   "id": "023add5a",
   "metadata": {},
   "source": [
    "# Chatbot project based on techwithtims tutorials"
   ]
  },
  {
   "cell_type": "markdown",
   "id": "d42f9565",
   "metadata": {},
   "source": [
    "# Setup"
   ]
  },
  {
   "cell_type": "code",
   "execution_count": 1,
   "id": "4aadb8ed",
   "metadata": {},
   "outputs": [],
   "source": [
    "import numpy as np\n",
    "import random\n",
    "import json\n",
    "import nltk\n",
    "from nltk.stem.lancaster import LancasterStemmer\n",
    "import tensorflow as tf\n",
    "from tensorflow import keras\n",
    "import pickle"
   ]
  },
  {
   "cell_type": "markdown",
   "id": "f01a58e7",
   "metadata": {},
   "source": [
    "# Read and parse intents.json"
   ]
  },
  {
   "cell_type": "code",
   "execution_count": 2,
   "id": "d38333cc",
   "metadata": {},
   "outputs": [],
   "source": [
    "with open('intents.json') as file:\n",
    "    data = json.load(file)\n",
    "\n",
    "words = []\n",
    "labels = []\n",
    "docs_x = []\n",
    "docs_y = []\n",
    "\n",
    "for intent in data['intents']:\n",
    "    for pattern in intent['patterns']:\n",
    "        wrds = nltk.word_tokenize(pattern)\n",
    "        words.extend(wrds)\n",
    "        docs_x.append(wrds)\n",
    "        docs_y.append(intent['tag'])\n",
    "        \n",
    "    if intent['tag'] not in labels:\n",
    "        labels.append(intent['tag'])\n",
    "\n",
    "stemmer = LancasterStemmer()\n",
    "words = [stemmer.stem(w.lower()) for w in words if w != '?']\n",
    "words = sorted(list(set(words)))\n",
    "\n",
    "labels = sorted(labels)\n",
    "\n",
    "training = []\n",
    "output = []\n",
    "\n",
    "out_empty = [0 for _ in range(len(labels))]\n",
    "\n",
    "for x, doc in enumerate(docs_x):\n",
    "    bag = []\n",
    "    wrds = [stemmer.stem(w) for w in doc]\n",
    "    for w in words:\n",
    "        if w in wrds:\n",
    "            bag.append(1)\n",
    "        else:\n",
    "            bag.append(0)\n",
    "    output_row = out_empty[:]\n",
    "    output_row[labels.index(docs_y[x])] = 1\n",
    "    \n",
    "    training.append(bag)\n",
    "    output.append(output_row)\n",
    "\n",
    "training = np.array(training)\n",
    "output = np.array(output)"
   ]
  },
  {
   "cell_type": "markdown",
   "id": "c2b3f580",
   "metadata": {},
   "source": [
    "# Define model and train"
   ]
  },
  {
   "cell_type": "code",
   "execution_count": 3,
   "id": "ec1f83ec",
   "metadata": {},
   "outputs": [],
   "source": [
    "model = keras.models.Sequential([\n",
    "    \n",
    "    keras.layers.Dense(len(words),input_shape=[len(words)]),\n",
    "    keras.layers.Dense(16, activation='sigmoid'),\n",
    "    keras.layers.Dense(16, activation='sigmoid'),\n",
    "    keras.layers.Dense(len(labels), activation='softmax')\n",
    "    \n",
    "])"
   ]
  },
  {
   "cell_type": "code",
   "execution_count": null,
   "id": "a7f477a4",
   "metadata": {
    "scrolled": false
   },
   "outputs": [],
   "source": [
    "model.compile(optimizer='adam',loss='binary_crossentropy',metrics='accuracy')\n",
    "history = model.fit(x=training,\n",
    "                    y=output,\n",
    "                    batch_size=8,\n",
    "                    epochs=400,\n",
    "                    callbacks=[keras.callbacks.ReduceLROnPlateau(monitor='loss',factor=0.7,patience=30),\n",
    "                               keras.callbacks.EarlyStopping(monitor='loss', patience=150, restore_best_weights=True)])"
   ]
  },
  {
   "cell_type": "markdown",
   "id": "1d67e7f2",
   "metadata": {},
   "source": [
    "# Setup predictions"
   ]
  },
  {
   "cell_type": "code",
   "execution_count": 6,
   "id": "610f4cce",
   "metadata": {},
   "outputs": [],
   "source": [
    "def bag_of_words(s, words):\n",
    "    bag = [0 for _ in range(len(words))]\n",
    "    \n",
    "    s_words = nltk.word_tokenize(s)\n",
    "    s_words = [stemmer.stem(w.lower()) for w in s_words]\n",
    "    \n",
    "    for se in s_words:\n",
    "        for i,w in enumerate(words):\n",
    "            if w == se:\n",
    "                bag[i] = 1\n",
    "    \n",
    "    return np.array(bag).reshape(1,-1)\n",
    "\n",
    "def model_response(pred, labels, data):\n",
    "    if max(pred)<0.9:\n",
    "        uncertain_responses = ['I dont understand', 'Sorry I dont get what you\\'re saying', 'Could you word that differently?']\n",
    "        print(f\"Chatbot: {random.choice(uncertain_responses)}\")\n",
    "    else:\n",
    "        pred_idx = np.argmax(pred)\n",
    "        label = labels[pred_idx]\n",
    "\n",
    "        for intent in data['intents']:\n",
    "            if label == intent['tag']:\n",
    "                print(f\"Chatbot: {random.choice(intent['responses'])}\")\n",
    "                break"
   ]
  },
  {
   "cell_type": "markdown",
   "id": "280011bf",
   "metadata": {},
   "source": [
    "#  Define chat loop and chat!"
   ]
  },
  {
   "cell_type": "code",
   "execution_count": 7,
   "id": "6e399903",
   "metadata": {},
   "outputs": [],
   "source": [
    "def chat():\n",
    "    print('Start talking with the bot! (type quit to stop)\\n')\n",
    "    while True:\n",
    "        inp = input(\"You: \")\n",
    "        if inp.lower()=='quit':\n",
    "            break\n",
    "        bag = bag_of_words(inp, words)\n",
    "        pred = model.predict(bag).reshape(-1)\n",
    "        model_response(pred,labels,data)"
   ]
  },
  {
   "cell_type": "code",
   "execution_count": 8,
   "id": "b07a9b7a",
   "metadata": {},
   "outputs": [
    {
     "name": "stdout",
     "output_type": "stream",
     "text": [
      "Start talking with the bot! (type quit to stop)\n",
      "\n",
      "You: hello\n",
      "Chatbot: Good to see you again!\n",
      "You: what do you sell?\n",
      "Chatbot: Cookies are on the menu!\n",
      "You: what time do you open?\n",
      "Chatbot: Could you word that differently?\n",
      "You: quit\n"
     ]
    }
   ],
   "source": [
    "chat()"
   ]
  },
  {
   "cell_type": "code",
   "execution_count": null,
   "id": "65a7a1f7",
   "metadata": {},
   "outputs": [],
   "source": []
  }
 ],
 "metadata": {
  "kernelspec": {
   "display_name": "Python 3.8 (tensorflow)",
   "language": "python",
   "name": "tensorflow"
  },
  "language_info": {
   "codemirror_mode": {
    "name": "ipython",
    "version": 3
   },
   "file_extension": ".py",
   "mimetype": "text/x-python",
   "name": "python",
   "nbconvert_exporter": "python",
   "pygments_lexer": "ipython3",
   "version": "3.8.8"
  }
 },
 "nbformat": 4,
 "nbformat_minor": 5
}
